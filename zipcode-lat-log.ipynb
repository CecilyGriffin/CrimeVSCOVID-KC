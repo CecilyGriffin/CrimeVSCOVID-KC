{
 "cells": [
  {
   "cell_type": "code",
   "execution_count": 1,
   "metadata": {},
   "outputs": [],
   "source": [
    "import numpy as np\n",
    "import matplotlib.pyplot as plt\n",
    "import pandas as pd\n",
    "import gmaps\n",
    "\n",
    "# Google developer API key\n",
    "from config import gkey\n",
    "\n",
    "# Configure gmaps\n",
    "gmaps.configure(api_key=gkey)"
   ]
  },
  {
   "cell_type": "code",
   "execution_count": 2,
   "metadata": {},
   "outputs": [],
   "source": [
    "zip_covid = \"API-CSV/NewCOVID.csv\"\n",
    "lat_long = \"Resources/us-zip-code-latitude-and-longitude.csv\""
   ]
  },
  {
   "cell_type": "code",
   "execution_count": 3,
   "metadata": {},
   "outputs": [],
   "source": [
    "# Read the mouse data and the study results\n",
    "zip_covid = pd.read_csv(zip_covid)\n",
    "lat_long = pd.read_csv(lat_long, sep=\";\")\n",
    "\n"
   ]
  },
  {
   "cell_type": "code",
   "execution_count": 4,
   "metadata": {},
   "outputs": [
    {
     "data": {
      "text/plain": [
       "Index(['zip_code', 'City', 'State', 'Latitude', 'Longitude', 'Timezone',\n",
       "       'Daylight savings time flag', 'geopoint'],\n",
       "      dtype='object')"
      ]
     },
     "execution_count": 4,
     "metadata": {},
     "output_type": "execute_result"
    }
   ],
   "source": [
    "lat_long.columns"
   ]
  },
  {
   "cell_type": "code",
   "execution_count": 5,
   "metadata": {},
   "outputs": [
    {
     "data": {
      "text/html": [
       "<div>\n",
       "<style scoped>\n",
       "    .dataframe tbody tr th:only-of-type {\n",
       "        vertical-align: middle;\n",
       "    }\n",
       "\n",
       "    .dataframe tbody tr th {\n",
       "        vertical-align: top;\n",
       "    }\n",
       "\n",
       "    .dataframe thead th {\n",
       "        text-align: right;\n",
       "    }\n",
       "</style>\n",
       "<table border=\"1\" class=\"dataframe\">\n",
       "  <thead>\n",
       "    <tr style=\"text-align: right;\">\n",
       "      <th></th>\n",
       "      <th>zip_code</th>\n",
       "      <th>City</th>\n",
       "      <th>State</th>\n",
       "      <th>Latitude</th>\n",
       "      <th>Longitude</th>\n",
       "      <th>Timezone</th>\n",
       "      <th>Daylight savings time flag</th>\n",
       "      <th>geopoint</th>\n",
       "    </tr>\n",
       "  </thead>\n",
       "  <tbody>\n",
       "    <tr>\n",
       "      <th>0</th>\n",
       "      <td>65807</td>\n",
       "      <td>Springfield</td>\n",
       "      <td>MO</td>\n",
       "      <td>37.168435</td>\n",
       "      <td>-93.312970</td>\n",
       "      <td>-6</td>\n",
       "      <td>1</td>\n",
       "      <td>37.168435,-93.31297</td>\n",
       "    </tr>\n",
       "    <tr>\n",
       "      <th>1</th>\n",
       "      <td>65582</td>\n",
       "      <td>Vienna</td>\n",
       "      <td>MO</td>\n",
       "      <td>38.175146</td>\n",
       "      <td>-91.946550</td>\n",
       "      <td>-6</td>\n",
       "      <td>1</td>\n",
       "      <td>38.175146,-91.94655</td>\n",
       "    </tr>\n",
       "    <tr>\n",
       "      <th>2</th>\n",
       "      <td>65236</td>\n",
       "      <td>Brunswick</td>\n",
       "      <td>MO</td>\n",
       "      <td>39.436768</td>\n",
       "      <td>-93.111750</td>\n",
       "      <td>-6</td>\n",
       "      <td>1</td>\n",
       "      <td>39.436768,-93.11175</td>\n",
       "    </tr>\n",
       "    <tr>\n",
       "      <th>3</th>\n",
       "      <td>63103</td>\n",
       "      <td>Saint Louis</td>\n",
       "      <td>MO</td>\n",
       "      <td>38.631451</td>\n",
       "      <td>-90.214150</td>\n",
       "      <td>-6</td>\n",
       "      <td>1</td>\n",
       "      <td>38.631451,-90.21415</td>\n",
       "    </tr>\n",
       "    <tr>\n",
       "      <th>4</th>\n",
       "      <td>63931</td>\n",
       "      <td>Briar</td>\n",
       "      <td>MO</td>\n",
       "      <td>36.661010</td>\n",
       "      <td>-90.850785</td>\n",
       "      <td>-6</td>\n",
       "      <td>1</td>\n",
       "      <td>36.66101,-90.850785</td>\n",
       "    </tr>\n",
       "  </tbody>\n",
       "</table>\n",
       "</div>"
      ],
      "text/plain": [
       "   zip_code         City State   Latitude  Longitude  Timezone  \\\n",
       "0     65807  Springfield    MO  37.168435 -93.312970        -6   \n",
       "1     65582       Vienna    MO  38.175146 -91.946550        -6   \n",
       "2     65236    Brunswick    MO  39.436768 -93.111750        -6   \n",
       "3     63103  Saint Louis    MO  38.631451 -90.214150        -6   \n",
       "4     63931        Briar    MO  36.661010 -90.850785        -6   \n",
       "\n",
       "   Daylight savings time flag             geopoint  \n",
       "0                           1  37.168435,-93.31297  \n",
       "1                           1  38.175146,-91.94655  \n",
       "2                           1  39.436768,-93.11175  \n",
       "3                           1  38.631451,-90.21415  \n",
       "4                           1  36.66101,-90.850785  "
      ]
     },
     "execution_count": 5,
     "metadata": {},
     "output_type": "execute_result"
    }
   ],
   "source": [
    "lat_long.head()"
   ]
  },
  {
   "cell_type": "code",
   "execution_count": 41,
   "metadata": {},
   "outputs": [],
   "source": [
    "#merged_df = pd.merge(zip_covid, lat_long, how='left', left_on='zipcode_from_left_df', right_on='zipcode_from_right_df', suffixes=('_left', '_right'))"
   ]
  },
  {
   "cell_type": "code",
   "execution_count": 6,
   "metadata": {},
   "outputs": [],
   "source": [
    "merged_df = pd.merge(zip_covid, lat_long, how='left', on= 'zip_code', suffixes=('_left', '_right'))"
   ]
  },
  {
   "cell_type": "code",
   "execution_count": 7,
   "metadata": {},
   "outputs": [
    {
     "data": {
      "text/html": [
       "<div>\n",
       "<style scoped>\n",
       "    .dataframe tbody tr th:only-of-type {\n",
       "        vertical-align: middle;\n",
       "    }\n",
       "\n",
       "    .dataframe tbody tr th {\n",
       "        vertical-align: top;\n",
       "    }\n",
       "\n",
       "    .dataframe thead th {\n",
       "        text-align: right;\n",
       "    }\n",
       "</style>\n",
       "<table border=\"1\" class=\"dataframe\">\n",
       "  <thead>\n",
       "    <tr style=\"text-align: right;\">\n",
       "      <th></th>\n",
       "      <th>Unnamed: 0</th>\n",
       "      <th>zip_code</th>\n",
       "      <th>cases</th>\n",
       "      <th>crude_rate_per_100_000</th>\n",
       "      <th>City</th>\n",
       "      <th>State</th>\n",
       "      <th>Latitude</th>\n",
       "      <th>Longitude</th>\n",
       "      <th>Timezone</th>\n",
       "      <th>Daylight savings time flag</th>\n",
       "      <th>geopoint</th>\n",
       "    </tr>\n",
       "  </thead>\n",
       "  <tbody>\n",
       "    <tr>\n",
       "      <th>0</th>\n",
       "      <td>3</td>\n",
       "      <td>64106</td>\n",
       "      <td>186</td>\n",
       "      <td>1994.42</td>\n",
       "      <td>Kansas City</td>\n",
       "      <td>MO</td>\n",
       "      <td>39.103704</td>\n",
       "      <td>-94.57311</td>\n",
       "      <td>-6</td>\n",
       "      <td>1</td>\n",
       "      <td>39.103704,-94.57311</td>\n",
       "    </tr>\n",
       "    <tr>\n",
       "      <th>1</th>\n",
       "      <td>4</td>\n",
       "      <td>64108</td>\n",
       "      <td>217</td>\n",
       "      <td>2782.41</td>\n",
       "      <td>Kansas City</td>\n",
       "      <td>MO</td>\n",
       "      <td>39.084554</td>\n",
       "      <td>-94.58296</td>\n",
       "      <td>-6</td>\n",
       "      <td>1</td>\n",
       "      <td>39.084554,-94.58296</td>\n",
       "    </tr>\n",
       "    <tr>\n",
       "      <th>2</th>\n",
       "      <td>5</td>\n",
       "      <td>64109</td>\n",
       "      <td>138</td>\n",
       "      <td>1430.50</td>\n",
       "      <td>Kansas City</td>\n",
       "      <td>MO</td>\n",
       "      <td>39.065954</td>\n",
       "      <td>-94.56643</td>\n",
       "      <td>-6</td>\n",
       "      <td>1</td>\n",
       "      <td>39.065954,-94.56643</td>\n",
       "    </tr>\n",
       "    <tr>\n",
       "      <th>3</th>\n",
       "      <td>6</td>\n",
       "      <td>64110</td>\n",
       "      <td>171</td>\n",
       "      <td>995.58</td>\n",
       "      <td>Kansas City</td>\n",
       "      <td>MO</td>\n",
       "      <td>39.033505</td>\n",
       "      <td>-94.57286</td>\n",
       "      <td>-6</td>\n",
       "      <td>1</td>\n",
       "      <td>39.033505,-94.57286</td>\n",
       "    </tr>\n",
       "    <tr>\n",
       "      <th>4</th>\n",
       "      <td>7</td>\n",
       "      <td>64111</td>\n",
       "      <td>234</td>\n",
       "      <td>1314.53</td>\n",
       "      <td>Kansas City</td>\n",
       "      <td>MO</td>\n",
       "      <td>39.056505</td>\n",
       "      <td>-94.59439</td>\n",
       "      <td>-6</td>\n",
       "      <td>1</td>\n",
       "      <td>39.056505,-94.59439</td>\n",
       "    </tr>\n",
       "  </tbody>\n",
       "</table>\n",
       "</div>"
      ],
      "text/plain": [
       "   Unnamed: 0  zip_code  cases  crude_rate_per_100_000         City State  \\\n",
       "0           3     64106    186                 1994.42  Kansas City    MO   \n",
       "1           4     64108    217                 2782.41  Kansas City    MO   \n",
       "2           5     64109    138                 1430.50  Kansas City    MO   \n",
       "3           6     64110    171                  995.58  Kansas City    MO   \n",
       "4           7     64111    234                 1314.53  Kansas City    MO   \n",
       "\n",
       "    Latitude  Longitude  Timezone  Daylight savings time flag  \\\n",
       "0  39.103704  -94.57311        -6                           1   \n",
       "1  39.084554  -94.58296        -6                           1   \n",
       "2  39.065954  -94.56643        -6                           1   \n",
       "3  39.033505  -94.57286        -6                           1   \n",
       "4  39.056505  -94.59439        -6                           1   \n",
       "\n",
       "              geopoint  \n",
       "0  39.103704,-94.57311  \n",
       "1  39.084554,-94.58296  \n",
       "2  39.065954,-94.56643  \n",
       "3  39.033505,-94.57286  \n",
       "4  39.056505,-94.59439  "
      ]
     },
     "execution_count": 7,
     "metadata": {},
     "output_type": "execute_result"
    }
   ],
   "source": [
    "merged_df.head()\n",
    "\n"
   ]
  },
  {
   "cell_type": "code",
   "execution_count": 8,
   "metadata": {},
   "outputs": [
    {
     "data": {
      "text/plain": [
       "Index(['zip_code', 'City', 'State', 'Latitude', 'Longitude', 'Timezone',\n",
       "       'Daylight savings time flag', 'geopoint'],\n",
       "      dtype='object')"
      ]
     },
     "execution_count": 8,
     "metadata": {},
     "output_type": "execute_result"
    }
   ],
   "source": [
    "lat_long.columns"
   ]
  },
  {
   "cell_type": "code",
   "execution_count": 62,
   "metadata": {},
   "outputs": [],
   "source": [
    "merged_df.to_csv(\"merged_df.csv\")"
   ]
  },
  {
   "cell_type": "code",
   "execution_count": 15,
   "metadata": {},
   "outputs": [],
   "source": [
    "merged_df['weight']=1"
   ]
  },
  {
   "cell_type": "code",
   "execution_count": 33,
   "metadata": {},
   "outputs": [
    {
     "data": {
      "application/vnd.jupyter.widget-view+json": {
       "model_id": "0dc3a59c13374e88819110216b4b0517",
       "version_major": 2,
       "version_minor": 0
      },
      "text/plain": [
       "Figure(layout=FigureLayout(height='420px'))"
      ]
     },
     "metadata": {},
     "output_type": "display_data"
    }
   ],
   "source": [
    "# Plot Heatmap\n",
    "fig = gmaps.figure()\n",
    "\n",
    "# Create heat layer\n",
    "heat_layer = gmaps.heatmap_layer(merged_df[[\"Latitude\",\"Longitude\"]], weights = merged_df['weight'],\n",
    "                                 dissipating=False, max_intensity=5,\n",
    "                                 point_radius=.1)\n",
    "\n",
    "\n",
    "# Add layer\n",
    "fig.add_layer(heat_layer)\n",
    "\n",
    "# Display figure\n",
    "fig"
   ]
  },
  {
   "cell_type": "code",
   "execution_count": null,
   "metadata": {},
   "outputs": [],
   "source": []
  }
 ],
 "metadata": {
  "kernelspec": {
   "display_name": "Python 3",
   "language": "python",
   "name": "python3"
  },
  "language_info": {
   "codemirror_mode": {
    "name": "ipython",
    "version": 3
   },
   "file_extension": ".py",
   "mimetype": "text/x-python",
   "name": "python",
   "nbconvert_exporter": "python",
   "pygments_lexer": "ipython3",
   "version": "3.7.6"
  }
 },
 "nbformat": 4,
 "nbformat_minor": 4
}
