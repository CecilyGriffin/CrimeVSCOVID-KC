{
 "cells": [
  {
   "cell_type": "code",
   "execution_count": 1,
   "metadata": {},
   "outputs": [],
   "source": [
    "import numpy as np\n",
    "import matplotlib.pyplot as plt\n",
    "import pandas as pd"
   ]
  },
  {
   "cell_type": "code",
   "execution_count": 2,
   "metadata": {},
   "outputs": [],
   "source": [
    "zip_covid = \"API-CSV/NewCOVID.csv\"\n",
    "lat_long = \"Resources/us-zip-code-latitude-and-longitude.csv\""
   ]
  },
  {
   "cell_type": "code",
   "execution_count": 3,
   "metadata": {},
   "outputs": [],
   "source": [
    "# Read the mouse data and the study results\n",
    "zip_covid = pd.read_csv(zip_covid)\n",
    "lat_long = pd.read_csv(lat_long, sep=\";\")\n",
    "\n"
   ]
  },
  {
   "cell_type": "code",
   "execution_count": 4,
   "metadata": {},
   "outputs": [
    {
     "data": {
      "text/plain": [
       "Index(['zip_code', 'City', 'State', 'Latitude', 'Longitude', 'Timezone',\n",
       "       'Daylight savings time flag', 'geopoint'],\n",
       "      dtype='object')"
      ]
     },
     "execution_count": 4,
     "metadata": {},
     "output_type": "execute_result"
    }
   ],
   "source": [
    "lat_long.columns"
   ]
  },
  {
   "cell_type": "code",
   "execution_count": 5,
   "metadata": {},
   "outputs": [
    {
     "data": {
      "text/html": [
       "<div>\n",
       "<style scoped>\n",
       "    .dataframe tbody tr th:only-of-type {\n",
       "        vertical-align: middle;\n",
       "    }\n",
       "\n",
       "    .dataframe tbody tr th {\n",
       "        vertical-align: top;\n",
       "    }\n",
       "\n",
       "    .dataframe thead th {\n",
       "        text-align: right;\n",
       "    }\n",
       "</style>\n",
       "<table border=\"1\" class=\"dataframe\">\n",
       "  <thead>\n",
       "    <tr style=\"text-align: right;\">\n",
       "      <th></th>\n",
       "      <th>zip_code</th>\n",
       "      <th>City</th>\n",
       "      <th>State</th>\n",
       "      <th>Latitude</th>\n",
       "      <th>Longitude</th>\n",
       "      <th>Timezone</th>\n",
       "      <th>Daylight savings time flag</th>\n",
       "      <th>geopoint</th>\n",
       "    </tr>\n",
       "  </thead>\n",
       "  <tbody>\n",
       "    <tr>\n",
       "      <th>0</th>\n",
       "      <td>65807</td>\n",
       "      <td>Springfield</td>\n",
       "      <td>MO</td>\n",
       "      <td>37.168435</td>\n",
       "      <td>-93.312970</td>\n",
       "      <td>-6</td>\n",
       "      <td>1</td>\n",
       "      <td>37.168435,-93.31297</td>\n",
       "    </tr>\n",
       "    <tr>\n",
       "      <th>1</th>\n",
       "      <td>65582</td>\n",
       "      <td>Vienna</td>\n",
       "      <td>MO</td>\n",
       "      <td>38.175146</td>\n",
       "      <td>-91.946550</td>\n",
       "      <td>-6</td>\n",
       "      <td>1</td>\n",
       "      <td>38.175146,-91.94655</td>\n",
       "    </tr>\n",
       "    <tr>\n",
       "      <th>2</th>\n",
       "      <td>65236</td>\n",
       "      <td>Brunswick</td>\n",
       "      <td>MO</td>\n",
       "      <td>39.436768</td>\n",
       "      <td>-93.111750</td>\n",
       "      <td>-6</td>\n",
       "      <td>1</td>\n",
       "      <td>39.436768,-93.11175</td>\n",
       "    </tr>\n",
       "    <tr>\n",
       "      <th>3</th>\n",
       "      <td>63103</td>\n",
       "      <td>Saint Louis</td>\n",
       "      <td>MO</td>\n",
       "      <td>38.631451</td>\n",
       "      <td>-90.214150</td>\n",
       "      <td>-6</td>\n",
       "      <td>1</td>\n",
       "      <td>38.631451,-90.21415</td>\n",
       "    </tr>\n",
       "    <tr>\n",
       "      <th>4</th>\n",
       "      <td>63931</td>\n",
       "      <td>Briar</td>\n",
       "      <td>MO</td>\n",
       "      <td>36.661010</td>\n",
       "      <td>-90.850785</td>\n",
       "      <td>-6</td>\n",
       "      <td>1</td>\n",
       "      <td>36.66101,-90.850785</td>\n",
       "    </tr>\n",
       "  </tbody>\n",
       "</table>\n",
       "</div>"
      ],
      "text/plain": [
       "   zip_code         City State   Latitude  Longitude  Timezone  \\\n",
       "0     65807  Springfield    MO  37.168435 -93.312970        -6   \n",
       "1     65582       Vienna    MO  38.175146 -91.946550        -6   \n",
       "2     65236    Brunswick    MO  39.436768 -93.111750        -6   \n",
       "3     63103  Saint Louis    MO  38.631451 -90.214150        -6   \n",
       "4     63931        Briar    MO  36.661010 -90.850785        -6   \n",
       "\n",
       "   Daylight savings time flag             geopoint  \n",
       "0                           1  37.168435,-93.31297  \n",
       "1                           1  38.175146,-91.94655  \n",
       "2                           1  39.436768,-93.11175  \n",
       "3                           1  38.631451,-90.21415  \n",
       "4                           1  36.66101,-90.850785  "
      ]
     },
     "execution_count": 5,
     "metadata": {},
     "output_type": "execute_result"
    }
   ],
   "source": [
    "lat_long.head()"
   ]
  },
  {
   "cell_type": "code",
   "execution_count": null,
   "metadata": {},
   "outputs": [],
   "source": [
    "#merged_df = pd.merge(zip_covid, lat_long, how='left', left_on='zipcode_from_left_df', right_on='zipcode_from_right_df', suffixes=('_left', '_right'))"
   ]
  },
  {
   "cell_type": "code",
   "execution_count": null,
   "metadata": {},
   "outputs": [],
   "source": [
    "merged_df = pd.merge(zip_covid, lat_long, how='left', on= 'zip_code', suffixes=('_left', '_right'))"
   ]
  },
  {
   "cell_type": "code",
   "execution_count": null,
   "metadata": {},
   "outputs": [],
   "source": [
    "merged_df.head()\n",
    "\n"
   ]
  },
  {
   "cell_type": "code",
   "execution_count": null,
   "metadata": {},
   "outputs": [],
   "source": [
    "lat_long.columns"
   ]
  },
  {
   "cell_type": "code",
   "execution_count": null,
   "metadata": {},
   "outputs": [],
   "source": [
    "merged_df.to_csv(\"merged_df.csv\")"
   ]
  }
 ],
 "metadata": {
  "kernelspec": {
   "display_name": "Python 3",
   "language": "python",
   "name": "python3"
  },
  "language_info": {
   "codemirror_mode": {
    "name": "ipython",
    "version": 3
   },
   "file_extension": ".py",
   "mimetype": "text/x-python",
   "name": "python",
   "nbconvert_exporter": "python",
   "pygments_lexer": "ipython3",
   "version": "3.7.6"
  }
 },
 "nbformat": 4,
 "nbformat_minor": 4
}
